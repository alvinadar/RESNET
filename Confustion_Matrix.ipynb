{
  "nbformat": 4,
  "nbformat_minor": 0,
  "metadata": {
    "colab": {
      "name": "Confustion_Matrix.ipynb",
      "provenance": [],
      "collapsed_sections": [],
      "mount_file_id": "1nTlfKlhlLe4ZIxWB6wMb7CLLIf1dyfnq",
      "authorship_tag": "ABX9TyMcc4nBtdB17/9q1ZMgFl56",
      "include_colab_link": true
    },
    "kernelspec": {
      "name": "python3",
      "display_name": "Python 3"
    },
    "language_info": {
      "name": "python"
    }
  },
  "cells": [
    {
      "cell_type": "markdown",
      "metadata": {
        "id": "view-in-github",
        "colab_type": "text"
      },
      "source": [
        "<a href=\"https://colab.research.google.com/github/alvinadar/RESNET/blob/main/Confustion_Matrix.ipynb\" target=\"_parent\"><img src=\"https://colab.research.google.com/assets/colab-badge.svg\" alt=\"Open In Colab\"/></a>"
      ]
    },
    {
      "cell_type": "code",
      "metadata": {
        "id": "69-WYGt0tT9C"
      },
      "source": [
        ""
      ],
      "execution_count": null,
      "outputs": []
    },
    {
      "cell_type": "code",
      "metadata": {
        "id": "F4JxXdI3r1_d"
      },
      "source": [
        "from sklearn.metrics import confusion_matrix\n",
        "import seaborn as sns\n",
        "\n",
        "cm = confusion_matrix(y_test, predicted_classes)\n",
        "cm\n",
        "plt.figure(figsize = (10, 10))\n",
        "sns.heatmap(cm, annot = True)"
      ],
      "execution_count": null,
      "outputs": []
    },
    {
      "cell_type": "code",
      "metadata": {
        "colab": {
          "base_uri": "https://localhost:8080/"
        },
        "id": "ig4bD602t1vD",
        "outputId": "a2711289-e949-464b-e6b2-7bcc18f24f97"
      },
      "source": [
        "import numpy as np # linear algebra\n",
        "import pandas as pd # data processing, CSV file I/O (e.g. pd.read_csv)\n",
        "from sklearn.ensemble import RandomForestClassifier\n",
        "from sklearn.model_selection import train_test_split\n",
        "from sklearn.metrics import confusion_matrix, classification_report\n",
        "\n",
        "# Input data files are available in the \"../input/\" directory.\n",
        "# For example, running this (by clicking run or pressing Shift+Enter) will list the files in the input directory\n",
        "\n",
        "import os\n",
        "\n",
        "print(os.listdir(\"drive/MyDrive/Extended\"))"
      ],
      "execution_count": null,
      "outputs": [
        {
          "output_type": "stream",
          "text": [
            "['gpu.csv', 'validation.csv', 'training.csv', 'training.gsheet', 'validation.gsheet', 'artificial_neural_network.py']\n"
          ],
          "name": "stdout"
        }
      ]
    },
    {
      "cell_type": "code",
      "metadata": {
        "id": "pLYuD_BlwMw8"
      },
      "source": [
        "data = pd.read_csv(\"drive/MyDrive/Extended/validation.csv\")"
      ],
      "execution_count": 57,
      "outputs": []
    },
    {
      "cell_type": "code",
      "metadata": {
        "id": "la-CSF4sQlGP"
      },
      "source": [
        "y=data.Result\n",
        "x=data.drop('Result',axis=1)"
      ],
      "execution_count": 58,
      "outputs": []
    },
    {
      "cell_type": "markdown",
      "metadata": {
        "id": "q7lsRmv3FJtM"
      },
      "source": [
        "Split the data to test and validation (80:20)"
      ]
    },
    {
      "cell_type": "code",
      "metadata": {
        "id": "Y33b61gAQlDe"
      },
      "source": [
        "x_train,x_test,y_train,y_test=train_test_split(x,y,test_size=0.2)"
      ],
      "execution_count": 59,
      "outputs": []
    },
    {
      "cell_type": "code",
      "metadata": {
        "colab": {
          "base_uri": "https://localhost:8080/",
          "height": 198
        },
        "id": "hiyDnSlRQlA2",
        "outputId": "b1a7628e-1142-4bab-81ff-fc06de7ce658"
      },
      "source": [
        "x_train.head()"
      ],
      "execution_count": 60,
      "outputs": [
        {
          "output_type": "execute_result",
          "data": {
            "text/html": [
              "<div>\n",
              "<style scoped>\n",
              "    .dataframe tbody tr th:only-of-type {\n",
              "        vertical-align: middle;\n",
              "    }\n",
              "\n",
              "    .dataframe tbody tr th {\n",
              "        vertical-align: top;\n",
              "    }\n",
              "\n",
              "    .dataframe thead th {\n",
              "        text-align: right;\n",
              "    }\n",
              "</style>\n",
              "<table border=\"1\" class=\"dataframe\">\n",
              "  <thead>\n",
              "    <tr style=\"text-align: right;\">\n",
              "      <th></th>\n",
              "      <th>Filename</th>\n",
              "      <th>Young</th>\n",
              "      <th>Male</th>\n",
              "      <th>Eyeglasses</th>\n",
              "      <th>Bald</th>\n",
              "    </tr>\n",
              "  </thead>\n",
              "  <tbody>\n",
              "    <tr>\n",
              "      <th>3096</th>\n",
              "      <td>005097.jpg</td>\n",
              "      <td>-1</td>\n",
              "      <td>1</td>\n",
              "      <td>-1</td>\n",
              "      <td>-1</td>\n",
              "    </tr>\n",
              "    <tr>\n",
              "      <th>2592</th>\n",
              "      <td>004593.jpg</td>\n",
              "      <td>1</td>\n",
              "      <td>1</td>\n",
              "      <td>-1</td>\n",
              "      <td>-1</td>\n",
              "    </tr>\n",
              "    <tr>\n",
              "      <th>585</th>\n",
              "      <td>002586.jpg</td>\n",
              "      <td>-1</td>\n",
              "      <td>-1</td>\n",
              "      <td>-1</td>\n",
              "      <td>-1</td>\n",
              "    </tr>\n",
              "    <tr>\n",
              "      <th>3269</th>\n",
              "      <td>005270.jpg</td>\n",
              "      <td>1</td>\n",
              "      <td>1</td>\n",
              "      <td>-1</td>\n",
              "      <td>-1</td>\n",
              "    </tr>\n",
              "    <tr>\n",
              "      <th>854</th>\n",
              "      <td>002855.jpg</td>\n",
              "      <td>1</td>\n",
              "      <td>-1</td>\n",
              "      <td>-1</td>\n",
              "      <td>-1</td>\n",
              "    </tr>\n",
              "  </tbody>\n",
              "</table>\n",
              "</div>"
            ],
            "text/plain": [
              "        Filename  Young  Male  Eyeglasses  Bald\n",
              "3096  005097.jpg     -1     1          -1    -1\n",
              "2592  004593.jpg      1     1          -1    -1\n",
              "585   002586.jpg     -1    -1          -1    -1\n",
              "3269  005270.jpg      1     1          -1    -1\n",
              "854   002855.jpg      1    -1          -1    -1"
            ]
          },
          "metadata": {
            "tags": []
          },
          "execution_count": 60
        }
      ]
    },
    {
      "cell_type": "code",
      "metadata": {
        "colab": {
          "base_uri": "https://localhost:8080/"
        },
        "id": "6Eb4zQVdQk-h",
        "outputId": "4cd2c238-099b-47f0-870a-7f1745aa11be"
      },
      "source": [
        "y_train"
      ],
      "execution_count": 61,
      "outputs": [
        {
          "output_type": "execute_result",
          "data": {
            "text/plain": [
              "3096    True\n",
              "2592    True\n",
              "585     True\n",
              "3269    True\n",
              "854     True\n",
              "        ... \n",
              "3003    True\n",
              "674     True\n",
              "3528    True\n",
              "3896    True\n",
              "2971    True\n",
              "Name: Result, Length: 3200, dtype: bool"
            ]
          },
          "metadata": {
            "tags": []
          },
          "execution_count": 61
        }
      ]
    },
    {
      "cell_type": "code",
      "metadata": {
        "colab": {
          "base_uri": "https://localhost:8080/"
        },
        "id": "ocONWxYv5aXQ",
        "outputId": "b7fc3932-f4f1-48c0-d16e-3e7e05eed524"
      },
      "source": [
        "x_train.info()"
      ],
      "execution_count": 62,
      "outputs": [
        {
          "output_type": "stream",
          "text": [
            "<class 'pandas.core.frame.DataFrame'>\n",
            "Int64Index: 3200 entries, 3096 to 2971\n",
            "Data columns (total 5 columns):\n",
            " #   Column      Non-Null Count  Dtype \n",
            "---  ------      --------------  ----- \n",
            " 0   Filename    3200 non-null   object\n",
            " 1   Young       3200 non-null   int64 \n",
            " 2   Male        3200 non-null   int64 \n",
            " 3   Eyeglasses  3200 non-null   int64 \n",
            " 4   Bald        3200 non-null   int64 \n",
            "dtypes: int64(4), object(1)\n",
            "memory usage: 150.0+ KB\n"
          ],
          "name": "stdout"
        }
      ]
    },
    {
      "cell_type": "code",
      "metadata": {
        "colab": {
          "base_uri": "https://localhost:8080/"
        },
        "id": "6jrYUGYswbBe",
        "outputId": "e3449d4c-1e13-4653-cb04-a5fbe675fb8a"
      },
      "source": [
        "data.info()"
      ],
      "execution_count": 63,
      "outputs": [
        {
          "output_type": "stream",
          "text": [
            "<class 'pandas.core.frame.DataFrame'>\n",
            "RangeIndex: 4000 entries, 0 to 3999\n",
            "Data columns (total 6 columns):\n",
            " #   Column      Non-Null Count  Dtype \n",
            "---  ------      --------------  ----- \n",
            " 0   Filename    4000 non-null   object\n",
            " 1   Young       4000 non-null   int64 \n",
            " 2   Male        4000 non-null   int64 \n",
            " 3   Eyeglasses  4000 non-null   int64 \n",
            " 4   Bald        4000 non-null   int64 \n",
            " 5   Result      4000 non-null   bool  \n",
            "dtypes: bool(1), int64(4), object(1)\n",
            "memory usage: 160.3+ KB\n"
          ],
          "name": "stdout"
        }
      ]
    },
    {
      "cell_type": "code",
      "metadata": {
        "colab": {
          "base_uri": "https://localhost:8080/"
        },
        "id": "nJAu8foxwa-q",
        "outputId": "0f71b621-513b-4522-8413-6b3293850ccb"
      },
      "source": [
        "print(\"The number of validation examples:\",len(data))"
      ],
      "execution_count": 64,
      "outputs": [
        {
          "output_type": "stream",
          "text": [
            "The number of validation examples: 4000\n"
          ],
          "name": "stdout"
        }
      ]
    },
    {
      "cell_type": "markdown",
      "metadata": {
        "id": "zoubtQd5FWTq"
      },
      "source": [
        "Convert true and false to binary\n",
        "Encode all the file names to numerical values for SKLearn compability "
      ]
    },
    {
      "cell_type": "code",
      "metadata": {
        "colab": {
          "base_uri": "https://localhost:8080/"
        },
        "id": "f_jIF-tSzDYG",
        "outputId": "a0f213a3-1ed2-49b9-b6c2-b166a7b87c02"
      },
      "source": [
        "y_train.astype(int)\n",
        "y_test.astype(int)\n",
        "\n",
        "from sklearn.preprocessing import LabelEncoder\n",
        "le = LabelEncoder()\n",
        "x_test['Filename'] = le.fit_transform(x_test['Filename'])\n",
        "x_train['Filename'] = le.fit_transform(x_train['Filename'] )\n"
      ],
      "execution_count": 66,
      "outputs": [
        {
          "output_type": "stream",
          "text": [
            "/usr/local/lib/python3.7/dist-packages/ipykernel_launcher.py:6: SettingWithCopyWarning: \n",
            "A value is trying to be set on a copy of a slice from a DataFrame.\n",
            "Try using .loc[row_indexer,col_indexer] = value instead\n",
            "\n",
            "See the caveats in the documentation: https://pandas.pydata.org/pandas-docs/stable/user_guide/indexing.html#returning-a-view-versus-a-copy\n",
            "  \n",
            "/usr/local/lib/python3.7/dist-packages/ipykernel_launcher.py:7: SettingWithCopyWarning: \n",
            "A value is trying to be set on a copy of a slice from a DataFrame.\n",
            "Try using .loc[row_indexer,col_indexer] = value instead\n",
            "\n",
            "See the caveats in the documentation: https://pandas.pydata.org/pandas-docs/stable/user_guide/indexing.html#returning-a-view-versus-a-copy\n",
            "  import sys\n"
          ],
          "name": "stderr"
        }
      ]
    },
    {
      "cell_type": "markdown",
      "metadata": {
        "id": "aEh8x8GcFzy9"
      },
      "source": [
        "Use a standard scalar to transform the x_train and x_test as an array of input for the sklearn function."
      ]
    },
    {
      "cell_type": "code",
      "metadata": {
        "id": "ozvrm25Z3xaG"
      },
      "source": [
        "from sklearn.preprocessing import StandardScaler\n",
        "sc = StandardScaler()\n",
        "x_train = sc.fit_transform(x_train)\n",
        "x_test = sc.transform(x_test)"
      ],
      "execution_count": 67,
      "outputs": []
    },
    {
      "cell_type": "code",
      "metadata": {
        "colab": {
          "base_uri": "https://localhost:8080/"
        },
        "id": "OmKprNwT2x1F",
        "outputId": "cbe6b97c-cff2-40a7-e52d-f33fb2eb5abe"
      },
      "source": [
        "x_test"
      ],
      "execution_count": 68,
      "outputs": [
        {
          "output_type": "execute_result",
          "data": {
            "text/plain": [
              "array([[-1.29741437, -1.88982237, -0.85478958, -0.27237101, -0.16012815],\n",
              "       [-1.58645036, -1.88982237, -0.85478958, -0.27237101, -0.16012815],\n",
              "       [-0.94883913,  0.52915026,  1.16987856, -0.27237101, -0.16012815],\n",
              "       ...,\n",
              "       [-1.65031974,  0.52915026,  1.16987856, -0.27237101, -0.16012815],\n",
              "       [-1.2032341 ,  0.52915026, -0.85478958, -0.27237101, -0.16012815],\n",
              "       [-1.24112272,  0.52915026, -0.85478958, -0.27237101, -0.16012815]])"
            ]
          },
          "metadata": {
            "tags": []
          },
          "execution_count": 68
        }
      ]
    },
    {
      "cell_type": "code",
      "metadata": {
        "id": "r22BA5yLkL-L"
      },
      "source": [
        "rfc = RandomForestClassifier()"
      ],
      "execution_count": 75,
      "outputs": []
    },
    {
      "cell_type": "code",
      "metadata": {
        "colab": {
          "base_uri": "https://localhost:8080/"
        },
        "id": "8urwLOuNkL8F",
        "outputId": "639f4147-43a9-4cb1-b9a7-f7df3db5a076"
      },
      "source": [
        "rfc.fit(x_train,y_train)"
      ],
      "execution_count": 76,
      "outputs": [
        {
          "output_type": "execute_result",
          "data": {
            "text/plain": [
              "RandomForestClassifier(bootstrap=True, ccp_alpha=0.0, class_weight=None,\n",
              "                       criterion='gini', max_depth=None, max_features='auto',\n",
              "                       max_leaf_nodes=None, max_samples=None,\n",
              "                       min_impurity_decrease=0.0, min_impurity_split=None,\n",
              "                       min_samples_leaf=1, min_samples_split=2,\n",
              "                       min_weight_fraction_leaf=0.0, n_estimators=100,\n",
              "                       n_jobs=None, oob_score=False, random_state=None,\n",
              "                       verbose=0, warm_start=False)"
            ]
          },
          "metadata": {
            "tags": []
          },
          "execution_count": 76
        }
      ]
    },
    {
      "cell_type": "code",
      "metadata": {
        "id": "FUYum92skL4r"
      },
      "source": [
        "predictions = rfc.predict(x_test)\n"
      ],
      "execution_count": 77,
      "outputs": []
    },
    {
      "cell_type": "code",
      "metadata": {
        "id": "hOQhGB1W5SHa"
      },
      "source": [
        "y_test = y_test.argmax(1)"
      ],
      "execution_count": 48,
      "outputs": []
    },
    {
      "cell_type": "markdown",
      "metadata": {
        "id": "Wh5tW5ipGGpK"
      },
      "source": [
        "Plot the confusion matrix "
      ]
    },
    {
      "cell_type": "code",
      "metadata": {
        "colab": {
          "base_uri": "https://localhost:8080/"
        },
        "id": "IUF2BsoJkL2G",
        "outputId": "a742bd35-6362-4c73-adf4-ace5e8592043"
      },
      "source": [
        "conf_matrix = confusion_matrix(y_test,predictions)\n",
        "print(conf_matrix)"
      ],
      "execution_count": 86,
      "outputs": [
        {
          "output_type": "stream",
          "text": [
            "[[ 34   0]\n",
            " [  0 766]]\n"
          ],
          "name": "stdout"
        }
      ]
    },
    {
      "cell_type": "markdown",
      "metadata": {
        "id": "IdbJE-e0GJwp"
      },
      "source": [
        "Plot the confusion matrix heatmap "
      ]
    },
    {
      "cell_type": "code",
      "metadata": {
        "colab": {
          "base_uri": "https://localhost:8080/",
          "height": 610
        },
        "id": "kVkxqAFF5avJ",
        "outputId": "d85695fc-677d-4264-eecf-87fda0fd4dd5"
      },
      "source": [
        "from sklearn.metrics import confusion_matrix\n",
        "import seaborn as sns\n",
        "from matplotlib import pyplot as plt\n",
        "\n",
        "\n",
        "plt.figure(figsize = (10, 10))\n",
        "sns.heatmap(conf_matrix, annot = True)"
      ],
      "execution_count": 80,
      "outputs": [
        {
          "output_type": "execute_result",
          "data": {
            "text/plain": [
              "<matplotlib.axes._subplots.AxesSubplot at 0x7f3b465a4750>"
            ]
          },
          "metadata": {
            "tags": []
          },
          "execution_count": 80
        },
        {
          "output_type": "display_data",
          "data": {
            "image/png": "[encoded data removed]",
            "text/plain": [
              "<Figure size 720x720 with 2 Axes>"
            ]
          },
          "metadata": {
            "tags": [],
            "needs_background": "light"
          }
        }
      ]
    },
    {
      "cell_type": "markdown",
      "metadata": {
        "id": "mFqQMkFOGOWa"
      },
      "source": [
        "Calculate the accuracy "
      ]
    },
    {
      "cell_type": "code",
      "metadata": {
        "id": "Xl1OVWvZkLzc",
        "colab": {
          "base_uri": "https://localhost:8080/"
        },
        "outputId": "a758228f-c78d-45f5-93a3-1a2bb08ae49f"
      },
      "source": [
        "import numpy\n",
        "import sklearn.metrics\n",
        "\n",
        "\n",
        "r = sklearn.metrics.confusion_matrix(y_test, predictions)\n",
        "\n",
        "r = numpy.flip(r)\n",
        "\n",
        "acc = (r[0][0] + r[-1][-1]) / numpy.sum(r)\n",
        "print(acc)"
      ],
      "execution_count": 82,
      "outputs": [
        {
          "output_type": "stream",
          "text": [
            "1.0\n"
          ],
          "name": "stdout"
        }
      ]
    },
    {
      "cell_type": "code",
      "metadata": {
        "id": "OuMXCfm9GS4K"
      },
      "source": [
        "Calculate the precision"
      ],
      "execution_count": null,
      "outputs": []
    },
    {
      "cell_type": "code",
      "metadata": {
        "id": "SDapTiWykLsT",
        "colab": {
          "base_uri": "https://localhost:8080/"
        },
        "outputId": "653f8749-8066-4b90-8068-5667e24eadf1"
      },
      "source": [
        "from sklearn.metrics import confusion_matrix\n",
        "import numpy as np\n",
        "\n",
        "\n",
        "cm = confusion_matrix(y_test, predictions)\n",
        "accuracy = sum(np.diag(conf_matrix))/np.sum(conf_matrix) #Takes the total sum of the true postive devides with all the true postives and true negatives.  \n",
        "recall = np.diag(conf_matrix) / np.sum(cm, axis = 1)#Takes all the true postives devides with all the true postives and true negatives.\n",
        "precision = np.diag(conf_matrix) / np.sum(conf_matrix, axis = 0)#Takes all the true postives devides with all the true postives and true negatives. \n",
        "\n",
        "print('The accuracy calculated from the confusion matrix: ',format(accuracy))\n",
        "print('The recall calculated from the confusion matrix: ',format(recall))\n",
        "print('The precision calculated from the confusion matrix: ',format(precision))"
      ],
      "execution_count": 84,
      "outputs": [
        {
          "output_type": "stream",
          "text": [
            "The accuracy calculated from the confusion matrix:  1.0\n",
            "The recall calculated from the confusion matrix:  [1. 1.]\n",
            "The precision calculated from the confusion matrix:  [1. 1.]\n"
          ],
          "name": "stdout"
        }
      ]
    }
  ]
}