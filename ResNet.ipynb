{
  "nbformat": 4,
  "nbformat_minor": 0,
  "metadata": {
    "colab": {
      "name": "ResNet.ipynb",
      "provenance": [],
      "collapsed_sections": []
    },
    "kernelspec": {
      "name": "python3",
      "display_name": "Python 3"
    },
    "accelerator": "GPU"
  },
  "cells": [
    {
      "cell_type": "code",
      "metadata": {
        "id": "kW1YVsQgjALN"
      },
      "source": [
        "!pip3 install torch==1.2.0+cu92 torchvision==0.4.0+cu92 -f https://download.pytorch.org/whl/torch_stable.html"
      ],
      "execution_count": null,
      "outputs": []
    },
    {
      "cell_type": "code",
      "metadata": {
        "id": "BwUBcVgqjp3s"
      },
      "source": [
        "pip install -U d2l"
      ],
      "execution_count": null,
      "outputs": []
    },
    {
      "cell_type": "code",
      "metadata": {
        "id": "K4v_3frEjtf0"
      },
      "source": [
        "pip install Pillow"
      ],
      "execution_count": null,
      "outputs": []
    },
    {
      "cell_type": "code",
      "metadata": {
        "id": "3ODjM2ryjtcx"
      },
      "source": [
        "from d2l import torch as d2l\r\n",
        "import torch\r\n",
        "from torch import nn\r\n",
        "from torch.nn import functional as F\r\n",
        "\r\n",
        "class Residual(nn.Module):  #@save\r\n",
        "    \"\"\"The Residual block of ResNet.\"\"\"\r\n",
        "    def __init__(self, input_channels, num_channels,\r\n",
        "                 use_1x1conv=False, strides=1):\r\n",
        "        super().__init__()\r\n",
        "        self.conv1 = nn.Conv2d(input_channels, num_channels,\r\n",
        "                               kernel_size=3, padding=1, stride=strides)\r\n",
        "        self.conv2 = nn.Conv2d(num_channels, num_channels,\r\n",
        "                               kernel_size=3, padding=1)\r\n",
        "        if use_1x1conv:\r\n",
        "            self.conv3 = nn.Conv2d(input_channels, num_channels,\r\n",
        "                                   kernel_size=1, stride=strides)\r\n",
        "        else:\r\n",
        "            self.conv3 = None\r\n",
        "        self.bn1 = nn.BatchNorm2d(num_channels)\r\n",
        "        self.bn2 = nn.BatchNorm2d(num_channels)\r\n",
        "        self.relu = nn.ReLU(inplace=True)\r\n",
        "\r\n",
        "    def forward(self, X):\r\n",
        "        Y = F.relu(self.bn1(self.conv1(X)))\r\n",
        "        Y = self.bn2(self.conv2(Y))\r\n",
        "        if self.conv3:\r\n",
        "            X = self.conv3(X)\r\n",
        "        Y += X\r\n",
        "        return F.relu(Y)"
      ],
      "execution_count": null,
      "outputs": []
    },
    {
      "cell_type": "code",
      "metadata": {
        "id": "As_O-plIjtaD",
        "colab": {
          "base_uri": "https://localhost:8080/"
        },
        "outputId": "f04dd376-210c-496a-afd7-5cb356d66c42"
      },
      "source": [
        "blk = Residual(3,3)\r\n",
        "X = torch.rand(4, 3, 6, 6)\r\n",
        "Y = blk(X)\r\n",
        "Y.shape"
      ],
      "execution_count": null,
      "outputs": [
        {
          "output_type": "execute_result",
          "data": {
            "text/plain": [
              "torch.Size([4, 3, 6, 6])"
            ]
          },
          "metadata": {
            "tags": []
          },
          "execution_count": 2
        }
      ]
    },
    {
      "cell_type": "code",
      "metadata": {
        "id": "Q7LR1R7kjtXK",
        "colab": {
          "base_uri": "https://localhost:8080/"
        },
        "outputId": "99ed4c4b-6261-4dd3-852e-c56df2323b36"
      },
      "source": [
        "blk = Residual(3,6, use_1x1conv=True, strides=2)\r\n",
        "blk(X).shape"
      ],
      "execution_count": null,
      "outputs": [
        {
          "output_type": "execute_result",
          "data": {
            "text/plain": [
              "torch.Size([4, 6, 3, 3])"
            ]
          },
          "metadata": {
            "tags": []
          },
          "execution_count": 3
        }
      ]
    },
    {
      "cell_type": "code",
      "metadata": {
        "id": "e4hNf1dUjtUZ"
      },
      "source": [
        "b1 = nn.Sequential(nn.Conv2d(3, 64, kernel_size=7, stride=2, padding=3),\r\n",
        "                   nn.BatchNorm2d(64), nn.ReLU(),\r\n",
        "                   nn.MaxPool2d(kernel_size=3, stride=2, padding=1))"
      ],
      "execution_count": null,
      "outputs": []
    },
    {
      "cell_type": "code",
      "metadata": {
        "id": "TfOnykfIjtRh"
      },
      "source": [
        "def resnet_block(input_channels, num_channels, num_residuals,\r\n",
        "                 first_block=False):\r\n",
        "    blk = []\r\n",
        "    for i in range(num_residuals):\r\n",
        "        if i == 0 and not first_block:\r\n",
        "            blk.append(Residual(input_channels, num_channels,\r\n",
        "                                use_1x1conv=True, strides=2))\r\n",
        "        else:\r\n",
        "            blk.append(Residual(num_channels, num_channels))\r\n",
        "    return blk"
      ],
      "execution_count": null,
      "outputs": []
    },
    {
      "cell_type": "code",
      "metadata": {
        "id": "x0A6zKFukkRI"
      },
      "source": [
        "b2 = nn.Sequential(*resnet_block(64, 64, 2, first_block=True))\r\n",
        "b3 = nn.Sequential(*resnet_block(64, 128, 2))\r\n",
        "b4 = nn.Sequential(*resnet_block(128, 256, 2))\r\n",
        "b5 = nn.Sequential(*resnet_block(256, 512, 2))"
      ],
      "execution_count": null,
      "outputs": []
    },
    {
      "cell_type": "code",
      "metadata": {
        "id": "yoU9iAlkkkOc"
      },
      "source": [
        "net = nn.Sequential(b1, b2, b3, b4, b5,\r\n",
        "                    nn.AdaptiveAvgPool2d((1,1)),\r\n",
        "                    nn.Flatten(), nn.Linear(512, 10))"
      ],
      "execution_count": null,
      "outputs": []
    },
    {
      "cell_type": "code",
      "metadata": {
        "id": "oSFgF7UwkkLY",
        "colab": {
          "base_uri": "https://localhost:8080/"
        },
        "outputId": "1a847108-6296-44e6-fa75-e6fc23c65939"
      },
      "source": [
        "X = torch.rand(size=(3, 3, 224, 224))\r\n",
        "for layer in net:\r\n",
        "    X = layer(X)\r\n",
        "    print(layer.__class__.__name__,'output shape:\\t', X.shape)"
      ],
      "execution_count": null,
      "outputs": [
        {
          "output_type": "stream",
          "text": [
            "Sequential output shape:\t torch.Size([3, 64, 56, 56])\n",
            "Sequential output shape:\t torch.Size([3, 64, 56, 56])\n",
            "Sequential output shape:\t torch.Size([3, 128, 28, 28])\n",
            "Sequential output shape:\t torch.Size([3, 256, 14, 14])\n",
            "Sequential output shape:\t torch.Size([3, 512, 7, 7])\n",
            "AdaptiveAvgPool2d output shape:\t torch.Size([3, 512, 1, 1])\n",
            "Flatten output shape:\t torch.Size([3, 512])\n",
            "Linear output shape:\t torch.Size([3, 10])\n"
          ],
          "name": "stdout"
        }
      ]
    },
    {
      "cell_type": "code",
      "metadata": {
        "id": "1iPhEmUbkkIp"
      },
      "source": [
        "def evaluate_accuracy_gpu(net, data_iter, device=None):  #@save\r\n",
        "    \"\"\"Compute the accuracy for a model on a dataset using a GPU.\"\"\"\r\n",
        "    if isinstance(net, torch.nn.Module):\r\n",
        "        net.eval()  # Set the model to evaluation mode\r\n",
        "        if not device:\r\n",
        "            device = next(iter(net.parameters())).device\r\n",
        "    # No. of correct predictions, no. of predictions\r\n",
        "    metric = d2l.Accumulator(2)\r\n",
        "    for X, y in data_iter:\r\n",
        "        if isinstance(X, list):\r\n",
        "            # Required for BERT Fine-tuning (to be covered later)\r\n",
        "            X = [x.to(device) for x in X]\r\n",
        "        else:\r\n",
        "            X = X.to(device)\r\n",
        "        y = y.to(device)\r\n",
        "        metric.add(d2l.accuracy(net(X), y), y.numel())\r\n",
        "    return metric[0] / metric[1]"
      ],
      "execution_count": null,
      "outputs": []
    },
    {
      "cell_type": "code",
      "metadata": {
        "id": "GAFmH5TqkkGI"
      },
      "source": [
        "#@save\r\n",
        "def train_ch6(net, train_iter, test_iter, num_epochs, lr,\r\n",
        "              device=d2l.try_gpu()):\r\n",
        "    \"\"\"Train a model with a GPU (defined in Chapter 6).\"\"\"\r\n",
        "    def init_weights(m):\r\n",
        "        if type(m) == nn.Linear or type(m) == nn.Conv2d:\r\n",
        "            nn.init.xavier_uniform_(m.weight)\r\n",
        "    net.apply(init_weights)\r\n",
        "    print('training on', device)\r\n",
        "    net.to(device)\r\n",
        "    optimizer = torch.optim.SGD(net.parameters(), lr=lr)\r\n",
        "    loss = nn.CrossEntropyLoss()\r\n",
        "    animator = d2l.Animator(xlabel='epoch', xlim=[1, num_epochs],\r\n",
        "                            legend=['train loss', 'train acc', 'test acc'])\r\n",
        "    timer, num_batches = d2l.Timer(), len(train_iter)\r\n",
        "    for epoch in range(num_epochs):\r\n",
        "        # Sum of training loss, sum of training accuracy, no. of examples\r\n",
        "        metric = d2l.Accumulator(3)\r\n",
        "        net.train()\r\n",
        "        for i, (X, y) in enumerate(train_iter):\r\n",
        "            timer.start()\r\n",
        "            optimizer.zero_grad()\r\n",
        "            X, y = X.to(device), y.to(device)\r\n",
        "            y_hat = net(X)\r\n",
        "            l = loss(y_hat, y)\r\n",
        "            l.backward()\r\n",
        "            optimizer.step()\r\n",
        "            with torch.no_grad():\r\n",
        "                metric.add(l * X.shape[0], d2l.accuracy(y_hat, y), X.shape[0])\r\n",
        "            timer.stop()\r\n",
        "            train_l = metric[0] / metric[2]\r\n",
        "            train_acc = metric[1] / metric[2]\r\n",
        "            if (i + 1) % (num_batches // 5) == 0 or i == num_batches - 1:\r\n",
        "                animator.add(epoch + (i + 1) / num_batches,\r\n",
        "                             (train_l, train_acc, None))\r\n",
        "        test_acc = evaluate_accuracy_gpu(net, test_iter)\r\n",
        "        animator.add(epoch + 1, (None, None, test_acc))\r\n",
        "    print(f'loss {train_l:.3f}, train acc {train_acc:.3f}, '\r\n",
        "          f'test acc {test_acc:.3f}')\r\n",
        "    print(f'{metric[2] * num_epochs / timer.sum():.1f} examples/sec '\r\n",
        "          f'on {str(device)}')"
      ],
      "execution_count": null,
      "outputs": []
    },
    {
      "cell_type": "code",
      "metadata": {
        "id": "9uaJMhZxtiJP"
      },
      "source": [
        "#@save\r\n",
        "d2l.DATA_HUB['cifar10_tiny'] = (d2l.DATA_URL + 'kaggle_cifar10_tiny.zip',\r\n",
        "                                '2068874e4b9a9f0fb07ebe0ad2b29754449ccacd')\r\n",
        "\r\n",
        "# If you use the full dataset downloaded for the Kaggle competition, set\r\n",
        "# `demo` to False\r\n",
        "demo = False\r\n",
        "\r\n",
        "if demo:\r\n",
        "    data_dir = d2l.download_extract('cifar10_tiny')\r\n",
        "else:\r\n",
        "    data_dir = ('C:\\\\Users\\\\user')"
      ],
      "execution_count": null,
      "outputs": []
    },
    {
      "cell_type": "code",
      "metadata": {
        "id": "ArkXHaNcssey",
        "colab": {
          "base_uri": "https://localhost:8080/"
        },
        "outputId": "e8123b1d-222d-48c3-f8ac-4fd5c2bfd349"
      },
      "source": [
        "#@save\r\n",
        "import os \r\n",
        "def read_csv_labels(fname):\r\n",
        "    \"\"\"Read fname to return a name to label dictionary.\"\"\"\r\n",
        "    with open(fname, 'r') as f:\r\n",
        "        # Skip the file header line (column name)\r\n",
        "        lines = f.readlines()[1:]\r\n",
        "    tokens = [l.rstrip().split(',') for l in lines]\r\n",
        "    return dict(((name, label) for name, label in tokens))\r\n",
        "\r\n",
        "labels = read_csv_labels(os.path.join(data_dir, 'trainLabels.csv'))\r\n",
        "print('# training examples:', len(labels))\r\n",
        "print('# classes:', len(set(labels.values())))"
      ],
      "execution_count": null,
      "outputs": [
        {
          "output_type": "stream",
          "text": [
            "# training examples: 50000\n",
            "# classes: 10\n"
          ],
          "name": "stdout"
        }
      ]
    },
    {
      "cell_type": "code",
      "metadata": {
        "id": "2cpAQ_owwhKZ"
      },
      "source": [
        "#@save\r\n",
        "def copyfile(filename, target_dir):\r\n",
        "    \"\"\"Copy a file into a target directory.\"\"\"\r\n",
        "    os.makedirs(target_dir, exist_ok=True)\r\n",
        "    shutil.copy(filename, target_dir)\r\n",
        "\r\n",
        "#@save\r\n",
        "def reorg_train_valid(data_dir, labels, valid_ratio):\r\n",
        "    # The number of examples of the class with the least examples in the\r\n",
        "    # training dataset\r\n",
        "    n = collections.Counter(labels.values()).most_common()[-1][1]\r\n",
        "    # The number of examples per class for the validation set\r\n",
        "    n_valid_per_label = max(1, math.floor(n * valid_ratio))\r\n",
        "    label_count = {}\r\n",
        "    for train_file in os.listdir(os.path.join(data_dir, 'train')):\r\n",
        "        label = labels[train_file.split('.')[0]]\r\n",
        "        fname = os.path.join(data_dir, 'train', train_file)\r\n",
        "        # Copy to train_valid_test/train_valid with a subfolder per class\r\n",
        "        copyfile(fname, os.path.join(data_dir, 'train_valid_test',\r\n",
        "                                     'train_valid', label))\r\n",
        "        if label not in label_count or label_count[label] < n_valid_per_label:\r\n",
        "            # Copy to train_valid_test/valid\r\n",
        "            copyfile(fname, os.path.join(data_dir, 'train_valid_test',\r\n",
        "                                         'valid', label))\r\n",
        "            label_count[label] = label_count.get(label, 0) + 1\r\n",
        "        else:\r\n",
        "            # Copy to train_valid_test/train\r\n",
        "            copyfile(fname, os.path.join(data_dir, 'train_valid_test',\r\n",
        "                                         'train', label))\r\n",
        "    return n_valid_per_label"
      ],
      "execution_count": null,
      "outputs": []
    },
    {
      "cell_type": "code",
      "metadata": {
        "id": "DmaiGVzIwhHy"
      },
      "source": [
        "#@save\r\n",
        "def reorg_test(data_dir):\r\n",
        "    for test_file in os.listdir(os.path.join(data_dir, 'test')):\r\n",
        "        copyfile(os.path.join(data_dir, 'test', test_file),\r\n",
        "                 os.path.join(data_dir, 'train_valid_test', 'test',\r\n",
        "                              'unknown'))"
      ],
      "execution_count": null,
      "outputs": []
    },
    {
      "cell_type": "code",
      "metadata": {
        "id": "YnH2CgHgwhE_"
      },
      "source": [
        "def reorg_cifar10_data(data_dir, valid_ratio):\r\n",
        "    labels = read_csv_labels(os.path.join(data_dir, 'trainLabels.csv'))\r\n",
        "    reorg_train_valid(data_dir, labels, valid_ratio)\r\n",
        "    reorg_test(data_dir)"
      ],
      "execution_count": null,
      "outputs": []
    },
    {
      "cell_type": "code",
      "metadata": {
        "id": "FOfcKrYMZrSG"
      },
      "source": [
        ""
      ],
      "execution_count": null,
      "outputs": []
    },
    {
      "cell_type": "code",
      "metadata": {
        "id": "C48ilWYnw1x3"
      },
      "source": [
        "import collections\r\n",
        "import math\r\n",
        "import shutil\r\n",
        "batch_size = 4 if demo else 128\r\n",
        "valid_ratio = 0.1\r\n",
        "reorg_cifar10_data(data_dir, valid_ratio)"
      ],
      "execution_count": null,
      "outputs": []
    },
    {
      "cell_type": "code",
      "metadata": {
        "id": "yRrR7w9jw1ux"
      },
      "source": [
        "import torchvision\r\n",
        "transform_train = torchvision.transforms.Compose([\r\n",
        "    # Magnify the image to a square of 40 pixels in both height and width\r\n",
        "    torchvision.transforms.Resize(40),\r\n",
        "    # Randomly crop a square image of 40 pixels in both height and width to\r\n",
        "    # produce a small square of 0.64 to 1 times the area of the original\r\n",
        "    # image, and then shrink it to a square of 32 pixels in both height and\r\n",
        "    # width\r\n",
        "    torchvision.transforms.RandomResizedCrop(32, scale=(0.64, 1.0),\r\n",
        "                                                   ratio=(1.0, 1.0)),\r\n",
        "    torchvision.transforms.RandomHorizontalFlip(),\r\n",
        "    torchvision.transforms.ToTensor(),\r\n",
        "    # Normalize each channel of the image\r\n",
        "    torchvision.transforms.Normalize([0.4914, 0.4822, 0.4465],\r\n",
        "                                           [0.2023, 0.1994, 0.2010])])"
      ],
      "execution_count": null,
      "outputs": []
    },
    {
      "cell_type": "code",
      "metadata": {
        "id": "4O6oKSLvw1r7"
      },
      "source": [
        "transform_test = torchvision.transforms.Compose([\r\n",
        "    torchvision.transforms.ToTensor(),\r\n",
        "    torchvision.transforms.Normalize([0.4914, 0.4822, 0.4465],\r\n",
        "                                           [0.2023, 0.1994, 0.2010])])"
      ],
      "execution_count": null,
      "outputs": []
    },
    {
      "cell_type": "code",
      "metadata": {
        "id": "m2H-Un5bxgDn"
      },
      "source": [
        "train_ds, train_valid_ds = [torchvision.datasets.ImageFolder(\r\n",
        "    os.path.join(data_dir, 'train_valid_test', folder),\r\n",
        "    transform=transform_train) for folder in ['train', 'train_valid']]\r\n",
        "\r\n",
        "valid_ds, test_ds = [torchvision.datasets.ImageFolder(\r\n",
        "    os.path.join(data_dir, 'train_valid_test', folder),\r\n",
        "    transform=transform_test) for folder in ['valid', 'test']]"
      ],
      "execution_count": null,
      "outputs": []
    },
    {
      "cell_type": "code",
      "metadata": {
        "id": "U5_fqNxhxgAs"
      },
      "source": [
        "train_iter, train_valid_iter = [torch.utils.data.DataLoader(\r\n",
        "    dataset, batch_size, shuffle=True, drop_last=True)\r\n",
        "    for dataset in (train_ds, train_valid_ds)]\r\n",
        "\r\n",
        "valid_iter = torch.utils.data.DataLoader(valid_ds, batch_size, shuffle=False,\r\n",
        "                                         drop_last=True)\r\n",
        "\r\n",
        "test_iter = torch.utils.data.DataLoader(test_ds, batch_size, shuffle=False,\r\n",
        "                                        drop_last=False)"
      ],
      "execution_count": null,
      "outputs": []
    },
    {
      "cell_type": "markdown",
      "metadata": {
        "id": "uvIjPNKlxf90"
      },
      "source": [
        "def get_net():\r\n",
        "    num_classes = 10\r\n",
        "    # PyTorch doesn't have the notion of hybrid model\r\n",
        "    net = d2l.resnet18(num_classes, 3)\r\n",
        "    return net\r\n",
        "\r\n",
        "loss = nn.CrossEntropyLoss(reduction=\"none\")"
      ]
    },
    {
      "cell_type": "code",
      "metadata": {
        "id": "yqRefsjEw1l1",
        "colab": {
          "base_uri": "https://localhost:8080/",
          "height": 296
        },
        "outputId": "8721fe30-17c8-4b16-8e18-e6d8537a77a5"
      },
      "source": [
        "lr, num_epochs, batch_size = 0.05, 10, 128\r\n",
        "d2l.train_ch6(net, train_iter, test_iter, num_epochs, lr)"
      ],
      "execution_count": null,
      "outputs": [
        {
          "output_type": "stream",
          "text": [
            "loss 0.665, train acc 0.766, test acc 0.103\n",
            "30.7 examples/sec on cpu\n"
          ],
          "name": "stdout"
        },
        {
          "output_type": "display_data",
          "data": {
            "text/plain": [
              "<Figure size 252x180 with 1 Axes>"
            ],
            "image/svg+xml": "<?xml version=\"1.0\" encoding=\"utf-8\" standalone=\"no\"?>\r\n<!DOCTYPE svg PUBLIC \"-//W3C//DTD SVG 1.1//EN\"\r\n  \"http://www.w3.org/Graphics/SVG/1.1/DTD/svg11.dtd\">\r\n<!-- Created with matplotlib (https://matplotlib.org/) -->\r\n<svg height=\"180.65625pt\" version=\"1.1\" viewBox=\"0 0 238.965625 180.65625\" width=\"238.965625pt\" xmlns=\"http://www.w3.org/2000/svg\" xmlns:xlink=\"http://www.w3.org/1999/xlink\">\r\n <metadata>\r\n  <rdf:RDF xmlns:cc=\"http://creativecommons.org/ns#\" xmlns:dc=\"http://purl.org/dc/elements/1.1/\" xmlns:rdf=\"http://www.w3.org/1999/02/22-rdf-syntax-ns#\">\r\n   <cc:Work>\r\n    <dc:type rdf:resource=\"http://purl.org/dc/dcmitype/StillImage\"/>\r\n    <dc:date>2021-02-28T00:34:52.179039</dc:date>\r\n    <dc:format>image/svg+xml</dc:format>\r\n    <dc:creator>\r\n     <cc:Agent>\r\n      <dc:title>Matplotlib v3.3.2, https://matplotlib.org/</dc:title>\r\n     </cc:Agent>\r\n    </dc:creator>\r\n   </cc:Work>\r\n  </rdf:RDF>\r\n </metadata>\r\n <defs>\r\n  <style type=\"text/css\">*{stroke-linecap:butt;stroke-linejoin:round;}</style>\r\n </defs>\r\n <g id=\"figure_1\">\r\n  <g id=\"patch_1\">\r\n   <path d=\"M 0 180.65625 \r\nL 238.965625 180.65625 \r\nL 238.965625 0 \r\nL 0 0 \r\nz\r\n\" style=\"fill:none;\"/>\r\n  </g>\r\n  <g id=\"axes_1\">\r\n   <g id=\"patch_2\">\r\n    <path d=\"M 30.103125 143.1 \r\nL 225.403125 143.1 \r\nL 225.403125 7.2 \r\nL 30.103125 7.2 \r\nz\r\n\" style=\"fill:#ffffff;\"/>\r\n   </g>\r\n   <g id=\"matplotlib.axis_1\">\r\n    <g id=\"xtick_1\">\r\n     <g id=\"line2d_1\">\r\n      <path clip-path=\"url(#pc5a2464fcb)\" d=\"M 51.803125 143.1 \r\nL 51.803125 7.2 \r\n\" style=\"fill:none;stroke:#b0b0b0;stroke-linecap:square;stroke-width:0.8;\"/>\r\n     </g>\r\n     <g id=\"line2d_2\">\r\n      <defs>\r\n       <path d=\"M 0 0 \r\nL 0 3.5 \r\n\" id=\"mf6f0ab4b1d\" style=\"stroke:#000000;stroke-width:0.8;\"/>\r\n      </defs>\r\n      <g>\r\n       <use style=\"stroke:#000000;stroke-width:0.8;\" x=\"51.803125\" xlink:href=\"#mf6f0ab4b1d\" y=\"143.1\"/>\r\n      </g>\r\n     </g>\r\n     <g id=\"text_1\">\r\n      <!-- 2 -->\r\n      <g transform=\"translate(48.621875 157.698438)scale(0.1 -0.1)\">\r\n       <defs>\r\n        <path d=\"M 19.1875 8.296875 \r\nL 53.609375 8.296875 \r\nL 53.609375 0 \r\nL 7.328125 0 \r\nL 7.328125 8.296875 \r\nQ 12.9375 14.109375 22.625 23.890625 \r\nQ 32.328125 33.6875 34.8125 36.53125 \r\nQ 39.546875 41.84375 41.421875 45.53125 \r\nQ 43.3125 49.21875 43.3125 52.78125 \r\nQ 43.3125 58.59375 39.234375 62.25 \r\nQ 35.15625 65.921875 28.609375 65.921875 \r\nQ 23.96875 65.921875 18.8125 64.3125 \r\nQ 13.671875 62.703125 7.8125 59.421875 \r\nL 7.8125 69.390625 \r\nQ 13.765625 71.78125 18.9375 73 \r\nQ 24.125 74.21875 28.421875 74.21875 \r\nQ 39.75 74.21875 46.484375 68.546875 \r\nQ 53.21875 62.890625 53.21875 53.421875 \r\nQ 53.21875 48.921875 51.53125 44.890625 \r\nQ 49.859375 40.875 45.40625 35.40625 \r\nQ 44.1875 33.984375 37.640625 27.21875 \r\nQ 31.109375 20.453125 19.1875 8.296875 \r\nz\r\n\" id=\"DejaVuSans-50\"/>\r\n       </defs>\r\n       <use xlink:href=\"#DejaVuSans-50\"/>\r\n      </g>\r\n     </g>\r\n    </g>\r\n    <g id=\"xtick_2\">\r\n     <g id=\"line2d_3\">\r\n      <path clip-path=\"url(#pc5a2464fcb)\" d=\"M 95.203125 143.1 \r\nL 95.203125 7.2 \r\n\" style=\"fill:none;stroke:#b0b0b0;stroke-linecap:square;stroke-width:0.8;\"/>\r\n     </g>\r\n     <g id=\"line2d_4\">\r\n      <g>\r\n       <use style=\"stroke:#000000;stroke-width:0.8;\" x=\"95.203125\" xlink:href=\"#mf6f0ab4b1d\" y=\"143.1\"/>\r\n      </g>\r\n     </g>\r\n     <g id=\"text_2\">\r\n      <!-- 4 -->\r\n      <g transform=\"translate(92.021875 157.698438)scale(0.1 -0.1)\">\r\n       <defs>\r\n        <path d=\"M 37.796875 64.3125 \r\nL 12.890625 25.390625 \r\nL 37.796875 25.390625 \r\nz\r\nM 35.203125 72.90625 \r\nL 47.609375 72.90625 \r\nL 47.609375 25.390625 \r\nL 58.015625 25.390625 \r\nL 58.015625 17.1875 \r\nL 47.609375 17.1875 \r\nL 47.609375 0 \r\nL 37.796875 0 \r\nL 37.796875 17.1875 \r\nL 4.890625 17.1875 \r\nL 4.890625 26.703125 \r\nz\r\n\" id=\"DejaVuSans-52\"/>\r\n       </defs>\r\n       <use xlink:href=\"#DejaVuSans-52\"/>\r\n      </g>\r\n     </g>\r\n    </g>\r\n    <g id=\"xtick_3\">\r\n     <g id=\"line2d_5\">\r\n      <path clip-path=\"url(#pc5a2464fcb)\" d=\"M 138.603125 143.1 \r\nL 138.603125 7.2 \r\n\" style=\"fill:none;stroke:#b0b0b0;stroke-linecap:square;stroke-width:0.8;\"/>\r\n     </g>\r\n     <g id=\"line2d_6\">\r\n      <g>\r\n       <use style=\"stroke:#000000;stroke-width:0.8;\" x=\"138.603125\" xlink:href=\"#mf6f0ab4b1d\" y=\"143.1\"/>\r\n      </g>\r\n     </g>\r\n     <g id=\"text_3\">\r\n      <!-- 6 -->\r\n      <g transform=\"translate(135.421875 157.698438)scale(0.1 -0.1)\">\r\n       <defs>\r\n        <path d=\"M 33.015625 40.375 \r\nQ 26.375 40.375 22.484375 35.828125 \r\nQ 18.609375 31.296875 18.609375 23.390625 \r\nQ 18.609375 15.53125 22.484375 10.953125 \r\nQ 26.375 6.390625 33.015625 6.390625 \r\nQ 39.65625 6.390625 43.53125 10.953125 \r\nQ 47.40625 15.53125 47.40625 23.390625 \r\nQ 47.40625 31.296875 43.53125 35.828125 \r\nQ 39.65625 40.375 33.015625 40.375 \r\nz\r\nM 52.59375 71.296875 \r\nL 52.59375 62.3125 \r\nQ 48.875 64.0625 45.09375 64.984375 \r\nQ 41.3125 65.921875 37.59375 65.921875 \r\nQ 27.828125 65.921875 22.671875 59.328125 \r\nQ 17.53125 52.734375 16.796875 39.40625 \r\nQ 19.671875 43.65625 24.015625 45.921875 \r\nQ 28.375 48.1875 33.59375 48.1875 \r\nQ 44.578125 48.1875 50.953125 41.515625 \r\nQ 57.328125 34.859375 57.328125 23.390625 \r\nQ 57.328125 12.15625 50.6875 5.359375 \r\nQ 44.046875 -1.421875 33.015625 -1.421875 \r\nQ 20.359375 -1.421875 13.671875 8.265625 \r\nQ 6.984375 17.96875 6.984375 36.375 \r\nQ 6.984375 53.65625 15.1875 63.9375 \r\nQ 23.390625 74.21875 37.203125 74.21875 \r\nQ 40.921875 74.21875 44.703125 73.484375 \r\nQ 48.484375 72.75 52.59375 71.296875 \r\nz\r\n\" id=\"DejaVuSans-54\"/>\r\n       </defs>\r\n       <use xlink:href=\"#DejaVuSans-54\"/>\r\n      </g>\r\n     </g>\r\n    </g>\r\n    <g id=\"xtick_4\">\r\n     <g id=\"line2d_7\">\r\n      <path clip-path=\"url(#pc5a2464fcb)\" d=\"M 182.003125 143.1 \r\nL 182.003125 7.2 \r\n\" style=\"fill:none;stroke:#b0b0b0;stroke-linecap:square;stroke-width:0.8;\"/>\r\n     </g>\r\n     <g id=\"line2d_8\">\r\n      <g>\r\n       <use style=\"stroke:#000000;stroke-width:0.8;\" x=\"182.003125\" xlink:href=\"#mf6f0ab4b1d\" y=\"143.1\"/>\r\n      </g>\r\n     </g>\r\n     <g id=\"text_4\">\r\n      <!-- 8 -->\r\n      <g transform=\"translate(178.821875 157.698438)scale(0.1 -0.1)\">\r\n       <defs>\r\n        <path d=\"M 31.78125 34.625 \r\nQ 24.75 34.625 20.71875 30.859375 \r\nQ 16.703125 27.09375 16.703125 20.515625 \r\nQ 16.703125 13.921875 20.71875 10.15625 \r\nQ 24.75 6.390625 31.78125 6.390625 \r\nQ 38.8125 6.390625 42.859375 10.171875 \r\nQ 46.921875 13.96875 46.921875 20.515625 \r\nQ 46.921875 27.09375 42.890625 30.859375 \r\nQ 38.875 34.625 31.78125 34.625 \r\nz\r\nM 21.921875 38.8125 \r\nQ 15.578125 40.375 12.03125 44.71875 \r\nQ 8.5 49.078125 8.5 55.328125 \r\nQ 8.5 64.0625 14.71875 69.140625 \r\nQ 20.953125 74.21875 31.78125 74.21875 \r\nQ 42.671875 74.21875 48.875 69.140625 \r\nQ 55.078125 64.0625 55.078125 55.328125 \r\nQ 55.078125 49.078125 51.53125 44.71875 \r\nQ 48 40.375 41.703125 38.8125 \r\nQ 48.828125 37.15625 52.796875 32.3125 \r\nQ 56.78125 27.484375 56.78125 20.515625 \r\nQ 56.78125 9.90625 50.3125 4.234375 \r\nQ 43.84375 -1.421875 31.78125 -1.421875 \r\nQ 19.734375 -1.421875 13.25 4.234375 \r\nQ 6.78125 9.90625 6.78125 20.515625 \r\nQ 6.78125 27.484375 10.78125 32.3125 \r\nQ 14.796875 37.15625 21.921875 38.8125 \r\nz\r\nM 18.3125 54.390625 \r\nQ 18.3125 48.734375 21.84375 45.5625 \r\nQ 25.390625 42.390625 31.78125 42.390625 \r\nQ 38.140625 42.390625 41.71875 45.5625 \r\nQ 45.3125 48.734375 45.3125 54.390625 \r\nQ 45.3125 60.0625 41.71875 63.234375 \r\nQ 38.140625 66.40625 31.78125 66.40625 \r\nQ 25.390625 66.40625 21.84375 63.234375 \r\nQ 18.3125 60.0625 18.3125 54.390625 \r\nz\r\n\" id=\"DejaVuSans-56\"/>\r\n       </defs>\r\n       <use xlink:href=\"#DejaVuSans-56\"/>\r\n      </g>\r\n     </g>\r\n    </g>\r\n    <g id=\"xtick_5\">\r\n     <g id=\"line2d_9\">\r\n      <path clip-path=\"url(#pc5a2464fcb)\" d=\"M 225.403125 143.1 \r\nL 225.403125 7.2 \r\n\" style=\"fill:none;stroke:#b0b0b0;stroke-linecap:square;stroke-width:0.8;\"/>\r\n     </g>\r\n     <g id=\"line2d_10\">\r\n      <g>\r\n       <use style=\"stroke:#000000;stroke-width:0.8;\" x=\"225.403125\" xlink:href=\"#mf6f0ab4b1d\" y=\"143.1\"/>\r\n      </g>\r\n     </g>\r\n     <g id=\"text_5\">\r\n      <!-- 10 -->\r\n      <g transform=\"translate(219.040625 157.698438)scale(0.1 -0.1)\">\r\n       <defs>\r\n        <path d=\"M 12.40625 8.296875 \r\nL 28.515625 8.296875 \r\nL 28.515625 63.921875 \r\nL 10.984375 60.40625 \r\nL 10.984375 69.390625 \r\nL 28.421875 72.90625 \r\nL 38.28125 72.90625 \r\nL 38.28125 8.296875 \r\nL 54.390625 8.296875 \r\nL 54.390625 0 \r\nL 12.40625 0 \r\nz\r\n\" id=\"DejaVuSans-49\"/>\r\n        <path d=\"M 31.78125 66.40625 \r\nQ 24.171875 66.40625 20.328125 58.90625 \r\nQ 16.5 51.421875 16.5 36.375 \r\nQ 16.5 21.390625 20.328125 13.890625 \r\nQ 24.171875 6.390625 31.78125 6.390625 \r\nQ 39.453125 6.390625 43.28125 13.890625 \r\nQ 47.125 21.390625 47.125 36.375 \r\nQ 47.125 51.421875 43.28125 58.90625 \r\nQ 39.453125 66.40625 31.78125 66.40625 \r\nz\r\nM 31.78125 74.21875 \r\nQ 44.046875 74.21875 50.515625 64.515625 \r\nQ 56.984375 54.828125 56.984375 36.375 \r\nQ 56.984375 17.96875 50.515625 8.265625 \r\nQ 44.046875 -1.421875 31.78125 -1.421875 \r\nQ 19.53125 -1.421875 13.0625 8.265625 \r\nQ 6.59375 17.96875 6.59375 36.375 \r\nQ 6.59375 54.828125 13.0625 64.515625 \r\nQ 19.53125 74.21875 31.78125 74.21875 \r\nz\r\n\" id=\"DejaVuSans-48\"/>\r\n       </defs>\r\n       <use xlink:href=\"#DejaVuSans-49\"/>\r\n       <use x=\"63.623047\" xlink:href=\"#DejaVuSans-48\"/>\r\n      </g>\r\n     </g>\r\n    </g>\r\n    <g id=\"text_6\">\r\n     <!-- epoch -->\r\n     <g transform=\"translate(112.525 171.376563)scale(0.1 -0.1)\">\r\n      <defs>\r\n       <path d=\"M 56.203125 29.59375 \r\nL 56.203125 25.203125 \r\nL 14.890625 25.203125 \r\nQ 15.484375 15.921875 20.484375 11.0625 \r\nQ 25.484375 6.203125 34.421875 6.203125 \r\nQ 39.59375 6.203125 44.453125 7.46875 \r\nQ 49.3125 8.734375 54.109375 11.28125 \r\nL 54.109375 2.78125 \r\nQ 49.265625 0.734375 44.1875 -0.34375 \r\nQ 39.109375 -1.421875 33.890625 -1.421875 \r\nQ 20.796875 -1.421875 13.15625 6.1875 \r\nQ 5.515625 13.8125 5.515625 26.8125 \r\nQ 5.515625 40.234375 12.765625 48.109375 \r\nQ 20.015625 56 32.328125 56 \r\nQ 43.359375 56 49.78125 48.890625 \r\nQ 56.203125 41.796875 56.203125 29.59375 \r\nz\r\nM 47.21875 32.234375 \r\nQ 47.125 39.59375 43.09375 43.984375 \r\nQ 39.0625 48.390625 32.421875 48.390625 \r\nQ 24.90625 48.390625 20.390625 44.140625 \r\nQ 15.875 39.890625 15.1875 32.171875 \r\nz\r\n\" id=\"DejaVuSans-101\"/>\r\n       <path d=\"M 18.109375 8.203125 \r\nL 18.109375 -20.796875 \r\nL 9.078125 -20.796875 \r\nL 9.078125 54.6875 \r\nL 18.109375 54.6875 \r\nL 18.109375 46.390625 \r\nQ 20.953125 51.265625 25.265625 53.625 \r\nQ 29.59375 56 35.59375 56 \r\nQ 45.5625 56 51.78125 48.09375 \r\nQ 58.015625 40.1875 58.015625 27.296875 \r\nQ 58.015625 14.40625 51.78125 6.484375 \r\nQ 45.5625 -1.421875 35.59375 -1.421875 \r\nQ 29.59375 -1.421875 25.265625 0.953125 \r\nQ 20.953125 3.328125 18.109375 8.203125 \r\nz\r\nM 48.6875 27.296875 \r\nQ 48.6875 37.203125 44.609375 42.84375 \r\nQ 40.53125 48.484375 33.40625 48.484375 \r\nQ 26.265625 48.484375 22.1875 42.84375 \r\nQ 18.109375 37.203125 18.109375 27.296875 \r\nQ 18.109375 17.390625 22.1875 11.75 \r\nQ 26.265625 6.109375 33.40625 6.109375 \r\nQ 40.53125 6.109375 44.609375 11.75 \r\nQ 48.6875 17.390625 48.6875 27.296875 \r\nz\r\n\" id=\"DejaVuSans-112\"/>\r\n       <path d=\"M 30.609375 48.390625 \r\nQ 23.390625 48.390625 19.1875 42.75 \r\nQ 14.984375 37.109375 14.984375 27.296875 \r\nQ 14.984375 17.484375 19.15625 11.84375 \r\nQ 23.34375 6.203125 30.609375 6.203125 \r\nQ 37.796875 6.203125 41.984375 11.859375 \r\nQ 46.1875 17.53125 46.1875 27.296875 \r\nQ 46.1875 37.015625 41.984375 42.703125 \r\nQ 37.796875 48.390625 30.609375 48.390625 \r\nz\r\nM 30.609375 56 \r\nQ 42.328125 56 49.015625 48.375 \r\nQ 55.71875 40.765625 55.71875 27.296875 \r\nQ 55.71875 13.875 49.015625 6.21875 \r\nQ 42.328125 -1.421875 30.609375 -1.421875 \r\nQ 18.84375 -1.421875 12.171875 6.21875 \r\nQ 5.515625 13.875 5.515625 27.296875 \r\nQ 5.515625 40.765625 12.171875 48.375 \r\nQ 18.84375 56 30.609375 56 \r\nz\r\n\" id=\"DejaVuSans-111\"/>\r\n       <path d=\"M 48.78125 52.59375 \r\nL 48.78125 44.1875 \r\nQ 44.96875 46.296875 41.140625 47.34375 \r\nQ 37.3125 48.390625 33.40625 48.390625 \r\nQ 24.65625 48.390625 19.8125 42.84375 \r\nQ 14.984375 37.3125 14.984375 27.296875 \r\nQ 14.984375 17.28125 19.8125 11.734375 \r\nQ 24.65625 6.203125 33.40625 6.203125 \r\nQ 37.3125 6.203125 41.140625 7.25 \r\nQ 44.96875 8.296875 48.78125 10.40625 \r\nL 48.78125 2.09375 \r\nQ 45.015625 0.34375 40.984375 -0.53125 \r\nQ 36.96875 -1.421875 32.421875 -1.421875 \r\nQ 20.0625 -1.421875 12.78125 6.34375 \r\nQ 5.515625 14.109375 5.515625 27.296875 \r\nQ 5.515625 40.671875 12.859375 48.328125 \r\nQ 20.21875 56 33.015625 56 \r\nQ 37.15625 56 41.109375 55.140625 \r\nQ 45.0625 54.296875 48.78125 52.59375 \r\nz\r\n\" id=\"DejaVuSans-99\"/>\r\n       <path d=\"M 54.890625 33.015625 \r\nL 54.890625 0 \r\nL 45.90625 0 \r\nL 45.90625 32.71875 \r\nQ 45.90625 40.484375 42.875 44.328125 \r\nQ 39.84375 48.1875 33.796875 48.1875 \r\nQ 26.515625 48.1875 22.3125 43.546875 \r\nQ 18.109375 38.921875 18.109375 30.90625 \r\nL 18.109375 0 \r\nL 9.078125 0 \r\nL 9.078125 75.984375 \r\nL 18.109375 75.984375 \r\nL 18.109375 46.1875 \r\nQ 21.34375 51.125 25.703125 53.5625 \r\nQ 30.078125 56 35.796875 56 \r\nQ 45.21875 56 50.046875 50.171875 \r\nQ 54.890625 44.34375 54.890625 33.015625 \r\nz\r\n\" id=\"DejaVuSans-104\"/>\r\n      </defs>\r\n      <use xlink:href=\"#DejaVuSans-101\"/>\r\n      <use x=\"61.523438\" xlink:href=\"#DejaVuSans-112\"/>\r\n      <use x=\"125\" xlink:href=\"#DejaVuSans-111\"/>\r\n      <use x=\"186.181641\" xlink:href=\"#DejaVuSans-99\"/>\r\n      <use x=\"241.162109\" xlink:href=\"#DejaVuSans-104\"/>\r\n     </g>\r\n    </g>\r\n   </g>\r\n   <g id=\"matplotlib.axis_2\">\r\n    <g id=\"ytick_1\">\r\n     <g id=\"line2d_11\">\r\n      <path clip-path=\"url(#pc5a2464fcb)\" d=\"M 30.103125 141.073956 \r\nL 225.403125 141.073956 \r\n\" style=\"fill:none;stroke:#b0b0b0;stroke-linecap:square;stroke-width:0.8;\"/>\r\n     </g>\r\n     <g id=\"line2d_12\">\r\n      <defs>\r\n       <path d=\"M 0 0 \r\nL -3.5 0 \r\n\" id=\"m361f7772df\" style=\"stroke:#000000;stroke-width:0.8;\"/>\r\n      </defs>\r\n      <g>\r\n       <use style=\"stroke:#000000;stroke-width:0.8;\" x=\"30.103125\" xlink:href=\"#m361f7772df\" y=\"141.073956\"/>\r\n      </g>\r\n     </g>\r\n     <g id=\"text_7\">\r\n      <!-- 0.0 -->\r\n      <g transform=\"translate(7.2 144.873175)scale(0.1 -0.1)\">\r\n       <defs>\r\n        <path d=\"M 10.6875 12.40625 \r\nL 21 12.40625 \r\nL 21 0 \r\nL 10.6875 0 \r\nz\r\n\" id=\"DejaVuSans-46\"/>\r\n       </defs>\r\n       <use xlink:href=\"#DejaVuSans-48\"/>\r\n       <use x=\"63.623047\" xlink:href=\"#DejaVuSans-46\"/>\r\n       <use x=\"95.410156\" xlink:href=\"#DejaVuSans-48\"/>\r\n      </g>\r\n     </g>\r\n    </g>\r\n    <g id=\"ytick_2\">\r\n     <g id=\"line2d_13\">\r\n      <path clip-path=\"url(#pc5a2464fcb)\" d=\"M 30.103125 113.475145 \r\nL 225.403125 113.475145 \r\n\" style=\"fill:none;stroke:#b0b0b0;stroke-linecap:square;stroke-width:0.8;\"/>\r\n     </g>\r\n     <g id=\"line2d_14\">\r\n      <g>\r\n       <use style=\"stroke:#000000;stroke-width:0.8;\" x=\"30.103125\" xlink:href=\"#m361f7772df\" y=\"113.475145\"/>\r\n      </g>\r\n     </g>\r\n     <g id=\"text_8\">\r\n      <!-- 0.5 -->\r\n      <g transform=\"translate(7.2 117.274364)scale(0.1 -0.1)\">\r\n       <defs>\r\n        <path d=\"M 10.796875 72.90625 \r\nL 49.515625 72.90625 \r\nL 49.515625 64.59375 \r\nL 19.828125 64.59375 \r\nL 19.828125 46.734375 \r\nQ 21.96875 47.46875 24.109375 47.828125 \r\nQ 26.265625 48.1875 28.421875 48.1875 \r\nQ 40.625 48.1875 47.75 41.5 \r\nQ 54.890625 34.8125 54.890625 23.390625 \r\nQ 54.890625 11.625 47.5625 5.09375 \r\nQ 40.234375 -1.421875 26.90625 -1.421875 \r\nQ 22.3125 -1.421875 17.546875 -0.640625 \r\nQ 12.796875 0.140625 7.71875 1.703125 \r\nL 7.71875 11.625 \r\nQ 12.109375 9.234375 16.796875 8.0625 \r\nQ 21.484375 6.890625 26.703125 6.890625 \r\nQ 35.15625 6.890625 40.078125 11.328125 \r\nQ 45.015625 15.765625 45.015625 23.390625 \r\nQ 45.015625 31 40.078125 35.4375 \r\nQ 35.15625 39.890625 26.703125 39.890625 \r\nQ 22.75 39.890625 18.8125 39.015625 \r\nQ 14.890625 38.140625 10.796875 36.28125 \r\nz\r\n\" id=\"DejaVuSans-53\"/>\r\n       </defs>\r\n       <use xlink:href=\"#DejaVuSans-48\"/>\r\n       <use x=\"63.623047\" xlink:href=\"#DejaVuSans-46\"/>\r\n       <use x=\"95.410156\" xlink:href=\"#DejaVuSans-53\"/>\r\n      </g>\r\n     </g>\r\n    </g>\r\n    <g id=\"ytick_3\">\r\n     <g id=\"line2d_15\">\r\n      <path clip-path=\"url(#pc5a2464fcb)\" d=\"M 30.103125 85.876334 \r\nL 225.403125 85.876334 \r\n\" style=\"fill:none;stroke:#b0b0b0;stroke-linecap:square;stroke-width:0.8;\"/>\r\n     </g>\r\n     <g id=\"line2d_16\">\r\n      <g>\r\n       <use style=\"stroke:#000000;stroke-width:0.8;\" x=\"30.103125\" xlink:href=\"#m361f7772df\" y=\"85.876334\"/>\r\n      </g>\r\n     </g>\r\n     <g id=\"text_9\">\r\n      <!-- 1.0 -->\r\n      <g transform=\"translate(7.2 89.675552)scale(0.1 -0.1)\">\r\n       <use xlink:href=\"#DejaVuSans-49\"/>\r\n       <use x=\"63.623047\" xlink:href=\"#DejaVuSans-46\"/>\r\n       <use x=\"95.410156\" xlink:href=\"#DejaVuSans-48\"/>\r\n      </g>\r\n     </g>\r\n    </g>\r\n    <g id=\"ytick_4\">\r\n     <g id=\"line2d_17\">\r\n      <path clip-path=\"url(#pc5a2464fcb)\" d=\"M 30.103125 58.277522 \r\nL 225.403125 58.277522 \r\n\" style=\"fill:none;stroke:#b0b0b0;stroke-linecap:square;stroke-width:0.8;\"/>\r\n     </g>\r\n     <g id=\"line2d_18\">\r\n      <g>\r\n       <use style=\"stroke:#000000;stroke-width:0.8;\" x=\"30.103125\" xlink:href=\"#m361f7772df\" y=\"58.277522\"/>\r\n      </g>\r\n     </g>\r\n     <g id=\"text_10\">\r\n      <!-- 1.5 -->\r\n      <g transform=\"translate(7.2 62.076741)scale(0.1 -0.1)\">\r\n       <use xlink:href=\"#DejaVuSans-49\"/>\r\n       <use x=\"63.623047\" xlink:href=\"#DejaVuSans-46\"/>\r\n       <use x=\"95.410156\" xlink:href=\"#DejaVuSans-53\"/>\r\n      </g>\r\n     </g>\r\n    </g>\r\n    <g id=\"ytick_5\">\r\n     <g id=\"line2d_19\">\r\n      <path clip-path=\"url(#pc5a2464fcb)\" d=\"M 30.103125 30.678711 \r\nL 225.403125 30.678711 \r\n\" style=\"fill:none;stroke:#b0b0b0;stroke-linecap:square;stroke-width:0.8;\"/>\r\n     </g>\r\n     <g id=\"line2d_20\">\r\n      <g>\r\n       <use style=\"stroke:#000000;stroke-width:0.8;\" x=\"30.103125\" xlink:href=\"#m361f7772df\" y=\"30.678711\"/>\r\n      </g>\r\n     </g>\r\n     <g id=\"text_11\">\r\n      <!-- 2.0 -->\r\n      <g transform=\"translate(7.2 34.47793)scale(0.1 -0.1)\">\r\n       <use xlink:href=\"#DejaVuSans-50\"/>\r\n       <use x=\"63.623047\" xlink:href=\"#DejaVuSans-46\"/>\r\n       <use x=\"95.410156\" xlink:href=\"#DejaVuSans-48\"/>\r\n      </g>\r\n     </g>\r\n    </g>\r\n   </g>\r\n   <g id=\"line2d_21\">\r\n    <path clip-path=\"url(#pc5a2464fcb)\" d=\"M 12.73076 13.377273 \r\nL 17.058396 30.035925 \r\nL 21.386031 37.17269 \r\nL 25.713666 42.185104 \r\nL 30.041302 45.731474 \r\nL 30.103125 45.768639 \r\nL 34.43076 65.008549 \r\nL 38.758396 66.512626 \r\nL 43.086031 67.354201 \r\nL 47.413666 68.538546 \r\nL 51.741302 69.372094 \r\nL 51.803125 69.388165 \r\nL 56.13076 76.157365 \r\nL 60.458396 76.908069 \r\nL 64.786031 77.428345 \r\nL 69.113666 78.092396 \r\nL 73.441302 78.876283 \r\nL 73.503125 78.912956 \r\nL 77.83076 83.829019 \r\nL 82.158396 84.625715 \r\nL 86.486031 84.990002 \r\nL 90.813666 84.900249 \r\nL 95.141302 85.201684 \r\nL 95.203125 85.212676 \r\nL 99.53076 91.477924 \r\nL 103.858396 90.373102 \r\nL 108.186031 90.272095 \r\nL 112.513666 90.423643 \r\nL 116.841302 90.707341 \r\nL 116.903125 90.725004 \r\nL 121.23076 94.887323 \r\nL 125.558396 94.151957 \r\nL 129.886031 94.36175 \r\nL 134.213666 94.4174 \r\nL 138.541302 94.544847 \r\nL 138.603125 94.533987 \r\nL 142.93076 96.759712 \r\nL 147.258396 96.998082 \r\nL 151.586031 97.100579 \r\nL 155.913666 97.424565 \r\nL 160.241302 97.4635 \r\nL 160.303125 97.47134 \r\nL 164.63076 100.596791 \r\nL 168.958396 99.827356 \r\nL 173.286031 99.814882 \r\nL 177.613666 99.843458 \r\nL 181.941302 100.118417 \r\nL 182.003125 100.117984 \r\nL 186.33076 102.820302 \r\nL 190.658396 101.900318 \r\nL 194.986031 102.252872 \r\nL 199.313666 102.423034 \r\nL 203.641302 102.029411 \r\nL 203.703125 102.032285 \r\nL 208.03076 105.480034 \r\nL 212.358396 105.098124 \r\nL 216.686031 104.633757 \r\nL 221.013666 104.399427 \r\nL 225.341302 104.335693 \r\nL 225.403125 104.343957 \r\n\" style=\"fill:none;stroke:#1f77b4;stroke-linecap:square;stroke-width:1.5;\"/>\r\n   </g>\r\n   <g id=\"line2d_22\">\r\n    <path clip-path=\"url(#pc5a2464fcb)\" d=\"M 12.73076 125.06911 \r\nL 17.058396 122.235304 \r\nL 21.386031 120.522699 \r\nL 25.713666 119.255186 \r\nL 30.041302 118.258118 \r\nL 30.103125 118.248177 \r\nL 34.43076 112.976149 \r\nL 38.758396 112.461751 \r\nL 43.086031 112.12806 \r\nL 47.413666 111.705556 \r\nL 51.741302 111.323916 \r\nL 51.803125 111.317759 \r\nL 56.13076 108.713118 \r\nL 60.458396 108.574508 \r\nL 64.786031 108.302421 \r\nL 69.113666 108.043169 \r\nL 73.441302 107.842031 \r\nL 73.503125 107.831051 \r\nL 77.83076 106.101088 \r\nL 82.158396 105.903953 \r\nL 86.486031 105.832081 \r\nL 90.813666 105.817707 \r\nL 95.141302 105.645214 \r\nL 95.203125 105.649093 \r\nL 99.53076 103.501378 \r\nL 103.858396 103.917208 \r\nL 108.186031 103.899754 \r\nL 112.513666 103.832502 \r\nL 116.841302 103.757653 \r\nL 116.903125 103.749709 \r\nL 121.23076 102.102956 \r\nL 125.558396 102.531107 \r\nL 129.886031 102.437674 \r\nL 134.213666 102.417139 \r\nL 138.541302 102.307483 \r\nL 138.603125 102.315957 \r\nL 142.93076 101.098803 \r\nL 147.258396 101.299018 \r\nL 151.586031 101.203531 \r\nL 155.913666 101.095723 \r\nL 160.241302 101.111124 \r\nL 160.303125 101.107035 \r\nL 164.63076 100.37187 \r\nL 168.958396 100.565924 \r\nL 173.286031 100.474544 \r\nL 177.613666 100.453496 \r\nL 181.941302 100.310266 \r\nL 182.003125 100.313372 \r\nL 186.33076 99.250668 \r\nL 190.658396 99.620295 \r\nL 194.986031 99.651098 \r\nL 199.313666 99.530969 \r\nL 203.641302 99.610439 \r\nL 203.703125 99.615539 \r\nL 208.03076 98.320441 \r\nL 212.358396 98.474452 \r\nL 216.686031 98.745512 \r\nL 221.013666 98.799416 \r\nL 225.341302 98.782474 \r\nL 225.403125 98.777648 \r\n\" style=\"fill:none;stroke:#bf00bf;stroke-dasharray:5.55,2.4;stroke-dashoffset:0;stroke-width:1.5;\"/>\r\n   </g>\r\n   <g id=\"line2d_23\">\r\n    <path clip-path=\"url(#pc5a2464fcb)\" d=\"M 30.103125 133.10526 \r\nL 51.803125 136.922727 \r\nL 73.503125 134.686672 \r\nL 95.203125 133.74592 \r\nL 116.903125 136.53156 \r\nL 138.603125 135.51666 \r\nL 160.303125 135.411232 \r\nL 182.003125 134.658521 \r\nL 203.703125 135.292189 \r\nL 225.403125 135.396145 \r\n\" style=\"fill:none;stroke:#008000;stroke-dasharray:9.6,2.4,1.5,2.4;stroke-dashoffset:0;stroke-width:1.5;\"/>\r\n   </g>\r\n   <g id=\"patch_3\">\r\n    <path d=\"M 30.103125 143.1 \r\nL 30.103125 7.2 \r\n\" style=\"fill:none;stroke:#000000;stroke-linecap:square;stroke-linejoin:miter;stroke-width:0.8;\"/>\r\n   </g>\r\n   <g id=\"patch_4\">\r\n    <path d=\"M 225.403125 143.1 \r\nL 225.403125 7.2 \r\n\" style=\"fill:none;stroke:#000000;stroke-linecap:square;stroke-linejoin:miter;stroke-width:0.8;\"/>\r\n   </g>\r\n   <g id=\"patch_5\">\r\n    <path d=\"M 30.103125 143.1 \r\nL 225.403125 143.1 \r\n\" style=\"fill:none;stroke:#000000;stroke-linecap:square;stroke-linejoin:miter;stroke-width:0.8;\"/>\r\n   </g>\r\n   <g id=\"patch_6\">\r\n    <path d=\"M 30.103125 7.2 \r\nL 225.403125 7.2 \r\n\" style=\"fill:none;stroke:#000000;stroke-linecap:square;stroke-linejoin:miter;stroke-width:0.8;\"/>\r\n   </g>\r\n   <g id=\"legend_1\">\r\n    <g id=\"patch_7\">\r\n     <path d=\"M 140.634375 59.234375 \r\nL 218.403125 59.234375 \r\nQ 220.403125 59.234375 220.403125 57.234375 \r\nL 220.403125 14.2 \r\nQ 220.403125 12.2 218.403125 12.2 \r\nL 140.634375 12.2 \r\nQ 138.634375 12.2 138.634375 14.2 \r\nL 138.634375 57.234375 \r\nQ 138.634375 59.234375 140.634375 59.234375 \r\nz\r\n\" style=\"fill:#ffffff;opacity:0.8;stroke:#cccccc;stroke-linejoin:miter;\"/>\r\n    </g>\r\n    <g id=\"line2d_24\">\r\n     <path d=\"M 142.634375 20.298438 \r\nL 162.634375 20.298438 \r\n\" style=\"fill:none;stroke:#1f77b4;stroke-linecap:square;stroke-width:1.5;\"/>\r\n    </g>\r\n    <g id=\"line2d_25\"/>\r\n    <g id=\"text_12\">\r\n     <!-- train loss -->\r\n     <g transform=\"translate(170.634375 23.798438)scale(0.1 -0.1)\">\r\n      <defs>\r\n       <path d=\"M 18.3125 70.21875 \r\nL 18.3125 54.6875 \r\nL 36.8125 54.6875 \r\nL 36.8125 47.703125 \r\nL 18.3125 47.703125 \r\nL 18.3125 18.015625 \r\nQ 18.3125 11.328125 20.140625 9.421875 \r\nQ 21.96875 7.515625 27.59375 7.515625 \r\nL 36.8125 7.515625 \r\nL 36.8125 0 \r\nL 27.59375 0 \r\nQ 17.1875 0 13.234375 3.875 \r\nQ 9.28125 7.765625 9.28125 18.015625 \r\nL 9.28125 47.703125 \r\nL 2.6875 47.703125 \r\nL 2.6875 54.6875 \r\nL 9.28125 54.6875 \r\nL 9.28125 70.21875 \r\nz\r\n\" id=\"DejaVuSans-116\"/>\r\n       <path d=\"M 41.109375 46.296875 \r\nQ 39.59375 47.171875 37.8125 47.578125 \r\nQ 36.03125 48 33.890625 48 \r\nQ 26.265625 48 22.1875 43.046875 \r\nQ 18.109375 38.09375 18.109375 28.8125 \r\nL 18.109375 0 \r\nL 9.078125 0 \r\nL 9.078125 54.6875 \r\nL 18.109375 54.6875 \r\nL 18.109375 46.1875 \r\nQ 20.953125 51.171875 25.484375 53.578125 \r\nQ 30.03125 56 36.53125 56 \r\nQ 37.453125 56 38.578125 55.875 \r\nQ 39.703125 55.765625 41.0625 55.515625 \r\nz\r\n\" id=\"DejaVuSans-114\"/>\r\n       <path d=\"M 34.28125 27.484375 \r\nQ 23.390625 27.484375 19.1875 25 \r\nQ 14.984375 22.515625 14.984375 16.5 \r\nQ 14.984375 11.71875 18.140625 8.90625 \r\nQ 21.296875 6.109375 26.703125 6.109375 \r\nQ 34.1875 6.109375 38.703125 11.40625 \r\nQ 43.21875 16.703125 43.21875 25.484375 \r\nL 43.21875 27.484375 \r\nz\r\nM 52.203125 31.203125 \r\nL 52.203125 0 \r\nL 43.21875 0 \r\nL 43.21875 8.296875 \r\nQ 40.140625 3.328125 35.546875 0.953125 \r\nQ 30.953125 -1.421875 24.3125 -1.421875 \r\nQ 15.921875 -1.421875 10.953125 3.296875 \r\nQ 6 8.015625 6 15.921875 \r\nQ 6 25.140625 12.171875 29.828125 \r\nQ 18.359375 34.515625 30.609375 34.515625 \r\nL 43.21875 34.515625 \r\nL 43.21875 35.40625 \r\nQ 43.21875 41.609375 39.140625 45 \r\nQ 35.0625 48.390625 27.6875 48.390625 \r\nQ 23 48.390625 18.546875 47.265625 \r\nQ 14.109375 46.140625 10.015625 43.890625 \r\nL 10.015625 52.203125 \r\nQ 14.9375 54.109375 19.578125 55.046875 \r\nQ 24.21875 56 28.609375 56 \r\nQ 40.484375 56 46.34375 49.84375 \r\nQ 52.203125 43.703125 52.203125 31.203125 \r\nz\r\n\" id=\"DejaVuSans-97\"/>\r\n       <path d=\"M 9.421875 54.6875 \r\nL 18.40625 54.6875 \r\nL 18.40625 0 \r\nL 9.421875 0 \r\nz\r\nM 9.421875 75.984375 \r\nL 18.40625 75.984375 \r\nL 18.40625 64.59375 \r\nL 9.421875 64.59375 \r\nz\r\n\" id=\"DejaVuSans-105\"/>\r\n       <path d=\"M 54.890625 33.015625 \r\nL 54.890625 0 \r\nL 45.90625 0 \r\nL 45.90625 32.71875 \r\nQ 45.90625 40.484375 42.875 44.328125 \r\nQ 39.84375 48.1875 33.796875 48.1875 \r\nQ 26.515625 48.1875 22.3125 43.546875 \r\nQ 18.109375 38.921875 18.109375 30.90625 \r\nL 18.109375 0 \r\nL 9.078125 0 \r\nL 9.078125 54.6875 \r\nL 18.109375 54.6875 \r\nL 18.109375 46.1875 \r\nQ 21.34375 51.125 25.703125 53.5625 \r\nQ 30.078125 56 35.796875 56 \r\nQ 45.21875 56 50.046875 50.171875 \r\nQ 54.890625 44.34375 54.890625 33.015625 \r\nz\r\n\" id=\"DejaVuSans-110\"/>\r\n       <path id=\"DejaVuSans-32\"/>\r\n       <path d=\"M 9.421875 75.984375 \r\nL 18.40625 75.984375 \r\nL 18.40625 0 \r\nL 9.421875 0 \r\nz\r\n\" id=\"DejaVuSans-108\"/>\r\n       <path d=\"M 44.28125 53.078125 \r\nL 44.28125 44.578125 \r\nQ 40.484375 46.53125 36.375 47.5 \r\nQ 32.28125 48.484375 27.875 48.484375 \r\nQ 21.1875 48.484375 17.84375 46.4375 \r\nQ 14.5 44.390625 14.5 40.28125 \r\nQ 14.5 37.15625 16.890625 35.375 \r\nQ 19.28125 33.59375 26.515625 31.984375 \r\nL 29.59375 31.296875 \r\nQ 39.15625 29.25 43.1875 25.515625 \r\nQ 47.21875 21.78125 47.21875 15.09375 \r\nQ 47.21875 7.46875 41.1875 3.015625 \r\nQ 35.15625 -1.421875 24.609375 -1.421875 \r\nQ 20.21875 -1.421875 15.453125 -0.5625 \r\nQ 10.6875 0.296875 5.421875 2 \r\nL 5.421875 11.28125 \r\nQ 10.40625 8.6875 15.234375 7.390625 \r\nQ 20.0625 6.109375 24.8125 6.109375 \r\nQ 31.15625 6.109375 34.5625 8.28125 \r\nQ 37.984375 10.453125 37.984375 14.40625 \r\nQ 37.984375 18.0625 35.515625 20.015625 \r\nQ 33.0625 21.96875 24.703125 23.78125 \r\nL 21.578125 24.515625 \r\nQ 13.234375 26.265625 9.515625 29.90625 \r\nQ 5.8125 33.546875 5.8125 39.890625 \r\nQ 5.8125 47.609375 11.28125 51.796875 \r\nQ 16.75 56 26.8125 56 \r\nQ 31.78125 56 36.171875 55.265625 \r\nQ 40.578125 54.546875 44.28125 53.078125 \r\nz\r\n\" id=\"DejaVuSans-115\"/>\r\n      </defs>\r\n      <use xlink:href=\"#DejaVuSans-116\"/>\r\n      <use x=\"39.208984\" xlink:href=\"#DejaVuSans-114\"/>\r\n      <use x=\"80.322266\" xlink:href=\"#DejaVuSans-97\"/>\r\n      <use x=\"141.601562\" xlink:href=\"#DejaVuSans-105\"/>\r\n      <use x=\"169.384766\" xlink:href=\"#DejaVuSans-110\"/>\r\n      <use x=\"232.763672\" xlink:href=\"#DejaVuSans-32\"/>\r\n      <use x=\"264.550781\" xlink:href=\"#DejaVuSans-108\"/>\r\n      <use x=\"292.333984\" xlink:href=\"#DejaVuSans-111\"/>\r\n      <use x=\"353.515625\" xlink:href=\"#DejaVuSans-115\"/>\r\n      <use x=\"405.615234\" xlink:href=\"#DejaVuSans-115\"/>\r\n     </g>\r\n    </g>\r\n    <g id=\"line2d_26\">\r\n     <path d=\"M 142.634375 34.976562 \r\nL 162.634375 34.976562 \r\n\" style=\"fill:none;stroke:#bf00bf;stroke-dasharray:5.55,2.4;stroke-dashoffset:0;stroke-width:1.5;\"/>\r\n    </g>\r\n    <g id=\"line2d_27\"/>\r\n    <g id=\"text_13\">\r\n     <!-- train acc -->\r\n     <g transform=\"translate(170.634375 38.476562)scale(0.1 -0.1)\">\r\n      <use xlink:href=\"#DejaVuSans-116\"/>\r\n      <use x=\"39.208984\" xlink:href=\"#DejaVuSans-114\"/>\r\n      <use x=\"80.322266\" xlink:href=\"#DejaVuSans-97\"/>\r\n      <use x=\"141.601562\" xlink:href=\"#DejaVuSans-105\"/>\r\n      <use x=\"169.384766\" xlink:href=\"#DejaVuSans-110\"/>\r\n      <use x=\"232.763672\" xlink:href=\"#DejaVuSans-32\"/>\r\n      <use x=\"264.550781\" xlink:href=\"#DejaVuSans-97\"/>\r\n      <use x=\"325.830078\" xlink:href=\"#DejaVuSans-99\"/>\r\n      <use x=\"380.810547\" xlink:href=\"#DejaVuSans-99\"/>\r\n     </g>\r\n    </g>\r\n    <g id=\"line2d_28\">\r\n     <path d=\"M 142.634375 49.654688 \r\nL 162.634375 49.654688 \r\n\" style=\"fill:none;stroke:#008000;stroke-dasharray:9.6,2.4,1.5,2.4;stroke-dashoffset:0;stroke-width:1.5;\"/>\r\n    </g>\r\n    <g id=\"line2d_29\"/>\r\n    <g id=\"text_14\">\r\n     <!-- test acc -->\r\n     <g transform=\"translate(170.634375 53.154688)scale(0.1 -0.1)\">\r\n      <use xlink:href=\"#DejaVuSans-116\"/>\r\n      <use x=\"39.208984\" xlink:href=\"#DejaVuSans-101\"/>\r\n      <use x=\"100.732422\" xlink:href=\"#DejaVuSans-115\"/>\r\n      <use x=\"152.832031\" xlink:href=\"#DejaVuSans-116\"/>\r\n      <use x=\"192.041016\" xlink:href=\"#DejaVuSans-32\"/>\r\n      <use x=\"223.828125\" xlink:href=\"#DejaVuSans-97\"/>\r\n      <use x=\"285.107422\" xlink:href=\"#DejaVuSans-99\"/>\r\n      <use x=\"340.087891\" xlink:href=\"#DejaVuSans-99\"/>\r\n     </g>\r\n    </g>\r\n   </g>\r\n  </g>\r\n </g>\r\n <defs>\r\n  <clipPath id=\"pc5a2464fcb\">\r\n   <rect height=\"135.9\" width=\"195.3\" x=\"30.103125\" y=\"7.2\"/>\r\n  </clipPath>\r\n </defs>\r\n</svg>\r\n"
          },
          "metadata": {
            "tags": [],
            "needs_background": "light"
          }
        }
      ]
    }
  ]
}